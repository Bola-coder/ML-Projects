{
 "cells": [
  {
   "cell_type": "code",
   "execution_count": 1,
   "id": "faccfa89",
   "metadata": {},
   "outputs": [],
   "source": [
    "import numpy as np\n",
    "import pandas as pd\n",
    "import seaborn as sns"
   ]
  },
  {
   "cell_type": "code",
   "execution_count": 2,
   "id": "ca03dca4",
   "metadata": {},
   "outputs": [],
   "source": [
    "ssData = './SampleSubmission.csv'\n",
    "trainData = './Train.csv'\n",
    "testData = './Test.csv'\n",
    "vdData = './VariableDefinitions.csv'"
   ]
  },
  {
   "cell_type": "code",
   "execution_count": 3,
   "id": "520c9614",
   "metadata": {},
   "outputs": [],
   "source": [
    "train = pd.read_csv(trainData)"
   ]
  },
  {
   "cell_type": "code",
   "execution_count": 4,
   "id": "dbccbdd9",
   "metadata": {},
   "outputs": [
    {
     "data": {
      "text/html": [
       "<div>\n",
       "<style scoped>\n",
       "    .dataframe tbody tr th:only-of-type {\n",
       "        vertical-align: middle;\n",
       "    }\n",
       "\n",
       "    .dataframe tbody tr th {\n",
       "        vertical-align: top;\n",
       "    }\n",
       "\n",
       "    .dataframe thead th {\n",
       "        text-align: right;\n",
       "    }\n",
       "</style>\n",
       "<table border=\"1\" class=\"dataframe\">\n",
       "  <thead>\n",
       "    <tr style=\"text-align: right;\">\n",
       "      <th></th>\n",
       "      <th>VehicleID</th>\n",
       "      <th>Location</th>\n",
       "      <th>Maker</th>\n",
       "      <th>Model</th>\n",
       "      <th>Year</th>\n",
       "      <th>Colour</th>\n",
       "      <th>Amount (Million Naira)</th>\n",
       "      <th>Type</th>\n",
       "      <th>Distance</th>\n",
       "    </tr>\n",
       "  </thead>\n",
       "  <tbody>\n",
       "    <tr>\n",
       "      <th>0</th>\n",
       "      <td>VHL12546</td>\n",
       "      <td>Abuja</td>\n",
       "      <td>Honda</td>\n",
       "      <td>Accord Coupe EX V-6</td>\n",
       "      <td>2,011</td>\n",
       "      <td>Silver</td>\n",
       "      <td>2.2</td>\n",
       "      <td>Nigerian Used</td>\n",
       "      <td>NaN</td>\n",
       "    </tr>\n",
       "    <tr>\n",
       "      <th>1</th>\n",
       "      <td>VHL18827</td>\n",
       "      <td>Ibadan</td>\n",
       "      <td>Hyundai</td>\n",
       "      <td>Sonata</td>\n",
       "      <td>2,012</td>\n",
       "      <td>Silver</td>\n",
       "      <td>3.5</td>\n",
       "      <td>Nigerian Used</td>\n",
       "      <td>125,000</td>\n",
       "    </tr>\n",
       "    <tr>\n",
       "      <th>2</th>\n",
       "      <td>VHL19499</td>\n",
       "      <td>Lagos</td>\n",
       "      <td>Lexus</td>\n",
       "      <td>RX 350</td>\n",
       "      <td>2,010</td>\n",
       "      <td>Red</td>\n",
       "      <td>9.2</td>\n",
       "      <td>Foreign Used</td>\n",
       "      <td>110,852</td>\n",
       "    </tr>\n",
       "    <tr>\n",
       "      <th>3</th>\n",
       "      <td>VHL17991</td>\n",
       "      <td>Abuja</td>\n",
       "      <td>Mercedes-Benz</td>\n",
       "      <td>GLE-Class</td>\n",
       "      <td>2,017</td>\n",
       "      <td>Blue</td>\n",
       "      <td>22.8</td>\n",
       "      <td>Foreign Used</td>\n",
       "      <td>30,000</td>\n",
       "    </tr>\n",
       "    <tr>\n",
       "      <th>4</th>\n",
       "      <td>VHL12170</td>\n",
       "      <td>Ibadan</td>\n",
       "      <td>Toyota</td>\n",
       "      <td>Highlander</td>\n",
       "      <td>2,002</td>\n",
       "      <td>Red</td>\n",
       "      <td>2.6</td>\n",
       "      <td>Nigerian Used</td>\n",
       "      <td>125,206</td>\n",
       "    </tr>\n",
       "  </tbody>\n",
       "</table>\n",
       "</div>"
      ],
      "text/plain": [
       "  VehicleID Location          Maker                Model   Year  Colour  \\\n",
       "0  VHL12546    Abuja          Honda  Accord Coupe EX V-6  2,011  Silver   \n",
       "1  VHL18827   Ibadan        Hyundai               Sonata  2,012  Silver   \n",
       "2  VHL19499    Lagos          Lexus               RX 350  2,010     Red   \n",
       "3  VHL17991    Abuja  Mercedes-Benz            GLE-Class  2,017    Blue   \n",
       "4  VHL12170   Ibadan         Toyota           Highlander  2,002     Red   \n",
       "\n",
       "   Amount (Million Naira)           Type Distance  \n",
       "0                     2.2  Nigerian Used      NaN  \n",
       "1                     3.5  Nigerian Used  125,000  \n",
       "2                     9.2   Foreign Used  110,852  \n",
       "3                    22.8   Foreign Used   30,000  \n",
       "4                     2.6  Nigerian Used  125,206  "
      ]
     },
     "execution_count": 4,
     "metadata": {},
     "output_type": "execute_result"
    }
   ],
   "source": [
    "train.head()"
   ]
  },
  {
   "cell_type": "code",
   "execution_count": 5,
   "id": "7017db7a",
   "metadata": {},
   "outputs": [],
   "source": [
    "test = pd.read_csv(testData)"
   ]
  },
  {
   "cell_type": "code",
   "execution_count": 6,
   "id": "951edee5",
   "metadata": {},
   "outputs": [
    {
     "data": {
      "text/html": [
       "<div>\n",
       "<style scoped>\n",
       "    .dataframe tbody tr th:only-of-type {\n",
       "        vertical-align: middle;\n",
       "    }\n",
       "\n",
       "    .dataframe tbody tr th {\n",
       "        vertical-align: top;\n",
       "    }\n",
       "\n",
       "    .dataframe thead th {\n",
       "        text-align: right;\n",
       "    }\n",
       "</style>\n",
       "<table border=\"1\" class=\"dataframe\">\n",
       "  <thead>\n",
       "    <tr style=\"text-align: right;\">\n",
       "      <th></th>\n",
       "      <th>VehicleID</th>\n",
       "      <th>Location</th>\n",
       "      <th>Maker</th>\n",
       "      <th>Model</th>\n",
       "      <th>Year</th>\n",
       "      <th>Colour</th>\n",
       "      <th>Type</th>\n",
       "      <th>Distance</th>\n",
       "    </tr>\n",
       "  </thead>\n",
       "  <tbody>\n",
       "    <tr>\n",
       "      <th>0</th>\n",
       "      <td>VHL18518</td>\n",
       "      <td>Abuja</td>\n",
       "      <td>BMW</td>\n",
       "      <td>323i</td>\n",
       "      <td>2,008</td>\n",
       "      <td>White</td>\n",
       "      <td>Foreign Used</td>\n",
       "      <td>30524.0</td>\n",
       "    </tr>\n",
       "    <tr>\n",
       "      <th>1</th>\n",
       "      <td>VHL17149</td>\n",
       "      <td>Lagos</td>\n",
       "      <td>Toyota</td>\n",
       "      <td>Camry</td>\n",
       "      <td>2,013</td>\n",
       "      <td>White</td>\n",
       "      <td>Foreign Used</td>\n",
       "      <td>NaN</td>\n",
       "    </tr>\n",
       "    <tr>\n",
       "      <th>2</th>\n",
       "      <td>VHL10927</td>\n",
       "      <td>Lagos</td>\n",
       "      <td>Toyota</td>\n",
       "      <td>Highlander Limited V6</td>\n",
       "      <td>2,005</td>\n",
       "      <td>Gold</td>\n",
       "      <td>Foreign Used</td>\n",
       "      <td>NaN</td>\n",
       "    </tr>\n",
       "    <tr>\n",
       "      <th>3</th>\n",
       "      <td>VHL12909</td>\n",
       "      <td>Lagos</td>\n",
       "      <td>Toyota</td>\n",
       "      <td>Camry</td>\n",
       "      <td>2,011</td>\n",
       "      <td>Gray</td>\n",
       "      <td>Foreign Used</td>\n",
       "      <td>166839.0</td>\n",
       "    </tr>\n",
       "    <tr>\n",
       "      <th>4</th>\n",
       "      <td>VHL12348</td>\n",
       "      <td>Lagos</td>\n",
       "      <td>Lexus</td>\n",
       "      <td>ES 350 FWD</td>\n",
       "      <td>2,013</td>\n",
       "      <td>Red</td>\n",
       "      <td>Foreign Used</td>\n",
       "      <td>88862.0</td>\n",
       "    </tr>\n",
       "  </tbody>\n",
       "</table>\n",
       "</div>"
      ],
      "text/plain": [
       "  VehicleID Location   Maker                  Model   Year Colour  \\\n",
       "0  VHL18518    Abuja     BMW                   323i  2,008  White   \n",
       "1  VHL17149    Lagos  Toyota                  Camry  2,013  White   \n",
       "2  VHL10927    Lagos  Toyota  Highlander Limited V6  2,005   Gold   \n",
       "3  VHL12909    Lagos  Toyota                  Camry  2,011   Gray   \n",
       "4  VHL12348    Lagos   Lexus             ES 350 FWD  2,013    Red   \n",
       "\n",
       "           Type  Distance  \n",
       "0  Foreign Used   30524.0  \n",
       "1  Foreign Used       NaN  \n",
       "2  Foreign Used       NaN  \n",
       "3  Foreign Used  166839.0  \n",
       "4  Foreign Used   88862.0  "
      ]
     },
     "execution_count": 6,
     "metadata": {},
     "output_type": "execute_result"
    }
   ],
   "source": [
    "test.head()"
   ]
  },
  {
   "cell_type": "code",
   "execution_count": 7,
   "id": "9e01807c",
   "metadata": {},
   "outputs": [
    {
     "data": {
      "text/plain": [
       "((7205, 9), (2061, 8))"
      ]
     },
     "execution_count": 7,
     "metadata": {},
     "output_type": "execute_result"
    }
   ],
   "source": [
    "train.shape, test.shape"
   ]
  },
  {
   "cell_type": "code",
   "execution_count": 8,
   "id": "70b083d9",
   "metadata": {},
   "outputs": [
    {
     "name": "stdout",
     "output_type": "stream",
     "text": [
      "<class 'pandas.core.frame.DataFrame'>\n",
      "RangeIndex: 7205 entries, 0 to 7204\n",
      "Data columns (total 9 columns):\n",
      " #   Column                  Non-Null Count  Dtype  \n",
      "---  ------                  --------------  -----  \n",
      " 0   VehicleID               7205 non-null   object \n",
      " 1   Location                7205 non-null   object \n",
      " 2   Maker                   7205 non-null   object \n",
      " 3   Model                   7205 non-null   object \n",
      " 4   Year                    7184 non-null   object \n",
      " 5   Colour                  7205 non-null   object \n",
      " 6   Amount (Million Naira)  7188 non-null   float64\n",
      " 7   Type                    7008 non-null   object \n",
      " 8   Distance                4845 non-null   object \n",
      "dtypes: float64(1), object(8)\n",
      "memory usage: 506.7+ KB\n"
     ]
    }
   ],
   "source": [
    "train.info()"
   ]
  },
  {
   "cell_type": "code",
   "execution_count": 9,
   "id": "ec31712d",
   "metadata": {},
   "outputs": [
    {
     "name": "stdout",
     "output_type": "stream",
     "text": [
      "<class 'pandas.core.frame.DataFrame'>\n",
      "RangeIndex: 2061 entries, 0 to 2060\n",
      "Data columns (total 8 columns):\n",
      " #   Column     Non-Null Count  Dtype  \n",
      "---  ------     --------------  -----  \n",
      " 0   VehicleID  2061 non-null   object \n",
      " 1   Location   2061 non-null   object \n",
      " 2   Maker      2061 non-null   object \n",
      " 3   Model      2061 non-null   object \n",
      " 4   Year       2059 non-null   object \n",
      " 5   Colour     2061 non-null   object \n",
      " 6   Type       2007 non-null   object \n",
      " 7   Distance   1385 non-null   float64\n",
      "dtypes: float64(1), object(7)\n",
      "memory usage: 128.9+ KB\n"
     ]
    }
   ],
   "source": [
    "test.info()"
   ]
  },
  {
   "cell_type": "code",
   "execution_count": 10,
   "id": "16ad5bbb",
   "metadata": {},
   "outputs": [],
   "source": [
    "# Adding the source column to both train and test to identify them\n",
    "train['source'] = 'train'\n",
    "test['source'] = 'test'"
   ]
  },
  {
   "cell_type": "code",
   "execution_count": 11,
   "id": "7e122277",
   "metadata": {},
   "outputs": [
    {
     "data": {
      "text/html": [
       "<div>\n",
       "<style scoped>\n",
       "    .dataframe tbody tr th:only-of-type {\n",
       "        vertical-align: middle;\n",
       "    }\n",
       "\n",
       "    .dataframe tbody tr th {\n",
       "        vertical-align: top;\n",
       "    }\n",
       "\n",
       "    .dataframe thead th {\n",
       "        text-align: right;\n",
       "    }\n",
       "</style>\n",
       "<table border=\"1\" class=\"dataframe\">\n",
       "  <thead>\n",
       "    <tr style=\"text-align: right;\">\n",
       "      <th></th>\n",
       "      <th>VehicleID</th>\n",
       "      <th>Location</th>\n",
       "      <th>Maker</th>\n",
       "      <th>Model</th>\n",
       "      <th>Year</th>\n",
       "      <th>Colour</th>\n",
       "      <th>Amount (Million Naira)</th>\n",
       "      <th>Type</th>\n",
       "      <th>Distance</th>\n",
       "      <th>source</th>\n",
       "    </tr>\n",
       "  </thead>\n",
       "  <tbody>\n",
       "    <tr>\n",
       "      <th>0</th>\n",
       "      <td>VHL12546</td>\n",
       "      <td>Abuja</td>\n",
       "      <td>Honda</td>\n",
       "      <td>Accord Coupe EX V-6</td>\n",
       "      <td>2,011</td>\n",
       "      <td>Silver</td>\n",
       "      <td>2.2</td>\n",
       "      <td>Nigerian Used</td>\n",
       "      <td>NaN</td>\n",
       "      <td>train</td>\n",
       "    </tr>\n",
       "    <tr>\n",
       "      <th>1</th>\n",
       "      <td>VHL18827</td>\n",
       "      <td>Ibadan</td>\n",
       "      <td>Hyundai</td>\n",
       "      <td>Sonata</td>\n",
       "      <td>2,012</td>\n",
       "      <td>Silver</td>\n",
       "      <td>3.5</td>\n",
       "      <td>Nigerian Used</td>\n",
       "      <td>125,000</td>\n",
       "      <td>train</td>\n",
       "    </tr>\n",
       "    <tr>\n",
       "      <th>2</th>\n",
       "      <td>VHL19499</td>\n",
       "      <td>Lagos</td>\n",
       "      <td>Lexus</td>\n",
       "      <td>RX 350</td>\n",
       "      <td>2,010</td>\n",
       "      <td>Red</td>\n",
       "      <td>9.2</td>\n",
       "      <td>Foreign Used</td>\n",
       "      <td>110,852</td>\n",
       "      <td>train</td>\n",
       "    </tr>\n",
       "    <tr>\n",
       "      <th>3</th>\n",
       "      <td>VHL17991</td>\n",
       "      <td>Abuja</td>\n",
       "      <td>Mercedes-Benz</td>\n",
       "      <td>GLE-Class</td>\n",
       "      <td>2,017</td>\n",
       "      <td>Blue</td>\n",
       "      <td>22.8</td>\n",
       "      <td>Foreign Used</td>\n",
       "      <td>30,000</td>\n",
       "      <td>train</td>\n",
       "    </tr>\n",
       "    <tr>\n",
       "      <th>4</th>\n",
       "      <td>VHL12170</td>\n",
       "      <td>Ibadan</td>\n",
       "      <td>Toyota</td>\n",
       "      <td>Highlander</td>\n",
       "      <td>2,002</td>\n",
       "      <td>Red</td>\n",
       "      <td>2.6</td>\n",
       "      <td>Nigerian Used</td>\n",
       "      <td>125,206</td>\n",
       "      <td>train</td>\n",
       "    </tr>\n",
       "  </tbody>\n",
       "</table>\n",
       "</div>"
      ],
      "text/plain": [
       "  VehicleID Location          Maker                Model   Year  Colour  \\\n",
       "0  VHL12546    Abuja          Honda  Accord Coupe EX V-6  2,011  Silver   \n",
       "1  VHL18827   Ibadan        Hyundai               Sonata  2,012  Silver   \n",
       "2  VHL19499    Lagos          Lexus               RX 350  2,010     Red   \n",
       "3  VHL17991    Abuja  Mercedes-Benz            GLE-Class  2,017    Blue   \n",
       "4  VHL12170   Ibadan         Toyota           Highlander  2,002     Red   \n",
       "\n",
       "   Amount (Million Naira)           Type Distance source  \n",
       "0                     2.2  Nigerian Used      NaN  train  \n",
       "1                     3.5  Nigerian Used  125,000  train  \n",
       "2                     9.2   Foreign Used  110,852  train  \n",
       "3                    22.8   Foreign Used   30,000  train  \n",
       "4                     2.6  Nigerian Used  125,206  train  "
      ]
     },
     "execution_count": 11,
     "metadata": {},
     "output_type": "execute_result"
    }
   ],
   "source": [
    "train.head()"
   ]
  },
  {
   "cell_type": "code",
   "execution_count": 12,
   "id": "09712874",
   "metadata": {},
   "outputs": [
    {
     "data": {
      "text/html": [
       "<div>\n",
       "<style scoped>\n",
       "    .dataframe tbody tr th:only-of-type {\n",
       "        vertical-align: middle;\n",
       "    }\n",
       "\n",
       "    .dataframe tbody tr th {\n",
       "        vertical-align: top;\n",
       "    }\n",
       "\n",
       "    .dataframe thead th {\n",
       "        text-align: right;\n",
       "    }\n",
       "</style>\n",
       "<table border=\"1\" class=\"dataframe\">\n",
       "  <thead>\n",
       "    <tr style=\"text-align: right;\">\n",
       "      <th></th>\n",
       "      <th>VehicleID</th>\n",
       "      <th>Location</th>\n",
       "      <th>Maker</th>\n",
       "      <th>Model</th>\n",
       "      <th>Year</th>\n",
       "      <th>Colour</th>\n",
       "      <th>Type</th>\n",
       "      <th>Distance</th>\n",
       "      <th>source</th>\n",
       "    </tr>\n",
       "  </thead>\n",
       "  <tbody>\n",
       "    <tr>\n",
       "      <th>0</th>\n",
       "      <td>VHL18518</td>\n",
       "      <td>Abuja</td>\n",
       "      <td>BMW</td>\n",
       "      <td>323i</td>\n",
       "      <td>2,008</td>\n",
       "      <td>White</td>\n",
       "      <td>Foreign Used</td>\n",
       "      <td>30524.0</td>\n",
       "      <td>test</td>\n",
       "    </tr>\n",
       "    <tr>\n",
       "      <th>1</th>\n",
       "      <td>VHL17149</td>\n",
       "      <td>Lagos</td>\n",
       "      <td>Toyota</td>\n",
       "      <td>Camry</td>\n",
       "      <td>2,013</td>\n",
       "      <td>White</td>\n",
       "      <td>Foreign Used</td>\n",
       "      <td>NaN</td>\n",
       "      <td>test</td>\n",
       "    </tr>\n",
       "    <tr>\n",
       "      <th>2</th>\n",
       "      <td>VHL10927</td>\n",
       "      <td>Lagos</td>\n",
       "      <td>Toyota</td>\n",
       "      <td>Highlander Limited V6</td>\n",
       "      <td>2,005</td>\n",
       "      <td>Gold</td>\n",
       "      <td>Foreign Used</td>\n",
       "      <td>NaN</td>\n",
       "      <td>test</td>\n",
       "    </tr>\n",
       "    <tr>\n",
       "      <th>3</th>\n",
       "      <td>VHL12909</td>\n",
       "      <td>Lagos</td>\n",
       "      <td>Toyota</td>\n",
       "      <td>Camry</td>\n",
       "      <td>2,011</td>\n",
       "      <td>Gray</td>\n",
       "      <td>Foreign Used</td>\n",
       "      <td>166839.0</td>\n",
       "      <td>test</td>\n",
       "    </tr>\n",
       "    <tr>\n",
       "      <th>4</th>\n",
       "      <td>VHL12348</td>\n",
       "      <td>Lagos</td>\n",
       "      <td>Lexus</td>\n",
       "      <td>ES 350 FWD</td>\n",
       "      <td>2,013</td>\n",
       "      <td>Red</td>\n",
       "      <td>Foreign Used</td>\n",
       "      <td>88862.0</td>\n",
       "      <td>test</td>\n",
       "    </tr>\n",
       "  </tbody>\n",
       "</table>\n",
       "</div>"
      ],
      "text/plain": [
       "  VehicleID Location   Maker                  Model   Year Colour  \\\n",
       "0  VHL18518    Abuja     BMW                   323i  2,008  White   \n",
       "1  VHL17149    Lagos  Toyota                  Camry  2,013  White   \n",
       "2  VHL10927    Lagos  Toyota  Highlander Limited V6  2,005   Gold   \n",
       "3  VHL12909    Lagos  Toyota                  Camry  2,011   Gray   \n",
       "4  VHL12348    Lagos   Lexus             ES 350 FWD  2,013    Red   \n",
       "\n",
       "           Type  Distance source  \n",
       "0  Foreign Used   30524.0   test  \n",
       "1  Foreign Used       NaN   test  \n",
       "2  Foreign Used       NaN   test  \n",
       "3  Foreign Used  166839.0   test  \n",
       "4  Foreign Used   88862.0   test  "
      ]
     },
     "execution_count": 12,
     "metadata": {},
     "output_type": "execute_result"
    }
   ],
   "source": [
    "test.head()"
   ]
  },
  {
   "cell_type": "code",
   "execution_count": 13,
   "id": "b9c6e175",
   "metadata": {},
   "outputs": [],
   "source": [
    "df = pd.concat((train, test), ignore_index=True)"
   ]
  },
  {
   "cell_type": "code",
   "execution_count": 14,
   "id": "848682bf",
   "metadata": {},
   "outputs": [
    {
     "data": {
      "text/plain": [
       "(9266, 10)"
      ]
     },
     "execution_count": 14,
     "metadata": {},
     "output_type": "execute_result"
    }
   ],
   "source": [
    "df.shape"
   ]
  },
  {
   "cell_type": "code",
   "execution_count": 15,
   "id": "6ad6d34c",
   "metadata": {},
   "outputs": [
    {
     "data": {
      "text/html": [
       "<div>\n",
       "<style scoped>\n",
       "    .dataframe tbody tr th:only-of-type {\n",
       "        vertical-align: middle;\n",
       "    }\n",
       "\n",
       "    .dataframe tbody tr th {\n",
       "        vertical-align: top;\n",
       "    }\n",
       "\n",
       "    .dataframe thead th {\n",
       "        text-align: right;\n",
       "    }\n",
       "</style>\n",
       "<table border=\"1\" class=\"dataframe\">\n",
       "  <thead>\n",
       "    <tr style=\"text-align: right;\">\n",
       "      <th></th>\n",
       "      <th>Amount (Million Naira)</th>\n",
       "    </tr>\n",
       "  </thead>\n",
       "  <tbody>\n",
       "    <tr>\n",
       "      <th>count</th>\n",
       "      <td>7188.000000</td>\n",
       "    </tr>\n",
       "    <tr>\n",
       "      <th>mean</th>\n",
       "      <td>11.847999</td>\n",
       "    </tr>\n",
       "    <tr>\n",
       "      <th>std</th>\n",
       "      <td>25.318922</td>\n",
       "    </tr>\n",
       "    <tr>\n",
       "      <th>min</th>\n",
       "      <td>0.450000</td>\n",
       "    </tr>\n",
       "    <tr>\n",
       "      <th>25%</th>\n",
       "      <td>3.500000</td>\n",
       "    </tr>\n",
       "    <tr>\n",
       "      <th>50%</th>\n",
       "      <td>5.650000</td>\n",
       "    </tr>\n",
       "    <tr>\n",
       "      <th>75%</th>\n",
       "      <td>11.662500</td>\n",
       "    </tr>\n",
       "    <tr>\n",
       "      <th>max</th>\n",
       "      <td>456.000000</td>\n",
       "    </tr>\n",
       "  </tbody>\n",
       "</table>\n",
       "</div>"
      ],
      "text/plain": [
       "       Amount (Million Naira)\n",
       "count             7188.000000\n",
       "mean                11.847999\n",
       "std                 25.318922\n",
       "min                  0.450000\n",
       "25%                  3.500000\n",
       "50%                  5.650000\n",
       "75%                 11.662500\n",
       "max                456.000000"
      ]
     },
     "execution_count": 15,
     "metadata": {},
     "output_type": "execute_result"
    }
   ],
   "source": [
    "df.describe()"
   ]
  },
  {
   "cell_type": "code",
   "execution_count": 16,
   "id": "54ff8a24",
   "metadata": {},
   "outputs": [
    {
     "name": "stdout",
     "output_type": "stream",
     "text": [
      "<class 'pandas.core.frame.DataFrame'>\n",
      "RangeIndex: 9266 entries, 0 to 9265\n",
      "Data columns (total 10 columns):\n",
      " #   Column                  Non-Null Count  Dtype  \n",
      "---  ------                  --------------  -----  \n",
      " 0   VehicleID               9266 non-null   object \n",
      " 1   Location                9266 non-null   object \n",
      " 2   Maker                   9266 non-null   object \n",
      " 3   Model                   9266 non-null   object \n",
      " 4   Year                    9243 non-null   object \n",
      " 5   Colour                  9266 non-null   object \n",
      " 6   Amount (Million Naira)  7188 non-null   float64\n",
      " 7   Type                    9015 non-null   object \n",
      " 8   Distance                6230 non-null   object \n",
      " 9   source                  9266 non-null   object \n",
      "dtypes: float64(1), object(9)\n",
      "memory usage: 724.0+ KB\n"
     ]
    }
   ],
   "source": [
    "df.info()"
   ]
  },
  {
   "cell_type": "code",
   "execution_count": 17,
   "id": "a654ed9b",
   "metadata": {},
   "outputs": [
    {
     "data": {
      "text/plain": [
       "VehicleID                    0\n",
       "Location                     0\n",
       "Maker                        0\n",
       "Model                        0\n",
       "Year                        23\n",
       "Colour                       0\n",
       "Amount (Million Naira)    2078\n",
       "Type                       251\n",
       "Distance                  3036\n",
       "source                       0\n",
       "dtype: int64"
      ]
     },
     "execution_count": 17,
     "metadata": {},
     "output_type": "execute_result"
    }
   ],
   "source": [
    "df.isnull().sum()"
   ]
  },
  {
   "cell_type": "code",
   "execution_count": 18,
   "id": "bfe38782",
   "metadata": {},
   "outputs": [
    {
     "data": {
      "text/plain": [
       "2,008    949\n",
       "2,010    785\n",
       "2,013    760\n",
       "2,007    622\n",
       "2,011    607\n",
       "2,012    587\n",
       "2,014    556\n",
       "2,009    554\n",
       "2,015    482\n",
       "2,006    448\n",
       "2,017    386\n",
       "2,005    380\n",
       "2,016    354\n",
       "2,018    331\n",
       "2,004    285\n",
       "2,020    273\n",
       "2,019    241\n",
       "2,021    188\n",
       "2,003    157\n",
       "2,002    101\n",
       "2,001     73\n",
       "2,000     48\n",
       "1,999     27\n",
       "1,998     14\n",
       "2,022     12\n",
       "1,997      8\n",
       "1,986      4\n",
       "1,992      3\n",
       "1,995      2\n",
       "1,991      1\n",
       "1,993      1\n",
       "1,982      1\n",
       "1,979      1\n",
       "1,989      1\n",
       "1,996      1\n",
       "Name: Year, dtype: int64"
      ]
     },
     "execution_count": 18,
     "metadata": {},
     "output_type": "execute_result"
    }
   ],
   "source": [
    "df.Year.value_counts()"
   ]
  },
  {
   "cell_type": "markdown",
   "id": "e1cd3d4e",
   "metadata": {},
   "source": [
    "##### Fill in the year null values with the medians"
   ]
  },
  {
   "cell_type": "code",
   "execution_count": 19,
   "id": "b8711293",
   "metadata": {},
   "outputs": [],
   "source": [
    "import datetime as dt"
   ]
  },
  {
   "cell_type": "code",
   "execution_count": 20,
   "id": "8b83d733",
   "metadata": {},
   "outputs": [],
   "source": [
    "# Filling the NaN values in Year with the mode\n",
    "df['Year'].fillna(\"2,008\", inplace=True)"
   ]
  },
  {
   "cell_type": "code",
   "execution_count": 21,
   "id": "2452f3ae",
   "metadata": {},
   "outputs": [
    {
     "data": {
      "text/plain": [
       "0"
      ]
     },
     "execution_count": 21,
     "metadata": {},
     "output_type": "execute_result"
    }
   ],
   "source": [
    "df['Year'].isnull().sum()"
   ]
  },
  {
   "cell_type": "code",
   "execution_count": 26,
   "id": "a830c463",
   "metadata": {},
   "outputs": [],
   "source": [
    "df['Year'] = df['Year'].str.replace(',', '')"
   ]
  },
  {
   "cell_type": "code",
   "execution_count": 27,
   "id": "547a6b24",
   "metadata": {},
   "outputs": [
    {
     "data": {
      "text/plain": [
       "0       2011\n",
       "1       2012\n",
       "2       2010\n",
       "3       2017\n",
       "4       2002\n",
       "        ... \n",
       "9261    2020\n",
       "9262    2011\n",
       "9263    2015\n",
       "9264    2013\n",
       "9265    2009\n",
       "Name: Year, Length: 9266, dtype: object"
      ]
     },
     "execution_count": 27,
     "metadata": {},
     "output_type": "execute_result"
    }
   ],
   "source": [
    "df[\"Year\"]"
   ]
  },
  {
   "cell_type": "code",
   "execution_count": 28,
   "id": "422d3e86",
   "metadata": {},
   "outputs": [],
   "source": [
    "df['Year'] = pd.to_datetime(df['Year'], format=\"%Y\")"
   ]
  },
  {
   "cell_type": "code",
   "execution_count": 29,
   "id": "d35af9bb",
   "metadata": {},
   "outputs": [
    {
     "name": "stdout",
     "output_type": "stream",
     "text": [
      "<class 'pandas.core.frame.DataFrame'>\n",
      "RangeIndex: 9266 entries, 0 to 9265\n",
      "Data columns (total 10 columns):\n",
      " #   Column                  Non-Null Count  Dtype         \n",
      "---  ------                  --------------  -----         \n",
      " 0   VehicleID               9266 non-null   object        \n",
      " 1   Location                9266 non-null   object        \n",
      " 2   Maker                   9266 non-null   object        \n",
      " 3   Model                   9266 non-null   object        \n",
      " 4   Year                    9266 non-null   datetime64[ns]\n",
      " 5   Colour                  9266 non-null   object        \n",
      " 6   Amount (Million Naira)  7188 non-null   float64       \n",
      " 7   Type                    9015 non-null   object        \n",
      " 8   Distance                6230 non-null   object        \n",
      " 9   source                  9266 non-null   object        \n",
      "dtypes: datetime64[ns](1), float64(1), object(8)\n",
      "memory usage: 724.0+ KB\n"
     ]
    }
   ],
   "source": [
    "df.info()"
   ]
  },
  {
   "cell_type": "code",
   "execution_count": 30,
   "id": "97449fbc",
   "metadata": {},
   "outputs": [
    {
     "data": {
      "text/plain": [
       "VehicleID                    0\n",
       "Location                     0\n",
       "Maker                        0\n",
       "Model                        0\n",
       "Year                         0\n",
       "Colour                       0\n",
       "Amount (Million Naira)    2078\n",
       "Type                       251\n",
       "Distance                  3036\n",
       "source                       0\n",
       "dtype: int64"
      ]
     },
     "execution_count": 30,
     "metadata": {},
     "output_type": "execute_result"
    }
   ],
   "source": [
    "df.isnull().sum()"
   ]
  },
  {
   "cell_type": "code",
   "execution_count": 31,
   "id": "849db022",
   "metadata": {},
   "outputs": [
    {
     "data": {
      "text/plain": [
       "Foreign Used     6286\n",
       "Nigerian Used    2442\n",
       "Brand New         287\n",
       "Name: Type, dtype: int64"
      ]
     },
     "execution_count": 31,
     "metadata": {},
     "output_type": "execute_result"
    }
   ],
   "source": [
    "df.Type.value_counts()"
   ]
  },
  {
   "cell_type": "code",
   "execution_count": 33,
   "id": "6808cf21",
   "metadata": {},
   "outputs": [],
   "source": [
    "df.Type.fillna(df.Type.mode()[0], inplace=True)"
   ]
  },
  {
   "cell_type": "code",
   "execution_count": 34,
   "id": "4dd5b8db",
   "metadata": {},
   "outputs": [
    {
     "data": {
      "text/plain": [
       "0"
      ]
     },
     "execution_count": 34,
     "metadata": {},
     "output_type": "execute_result"
    }
   ],
   "source": [
    "df.Type.isna().sum()"
   ]
  },
  {
   "cell_type": "code",
   "execution_count": 35,
   "id": "d9fa2dfa",
   "metadata": {},
   "outputs": [
    {
     "data": {
      "text/plain": [
       "VehicleID                    0\n",
       "Location                     0\n",
       "Maker                        0\n",
       "Model                        0\n",
       "Year                         0\n",
       "Colour                       0\n",
       "Amount (Million Naira)    2078\n",
       "Type                         0\n",
       "Distance                  3036\n",
       "source                       0\n",
       "dtype: int64"
      ]
     },
     "execution_count": 35,
     "metadata": {},
     "output_type": "execute_result"
    }
   ],
   "source": [
    "df.isna().sum()"
   ]
  },
  {
   "cell_type": "code",
   "execution_count": 36,
   "id": "f8b4f061",
   "metadata": {},
   "outputs": [
    {
     "data": {
      "text/plain": [
       "0            NaN\n",
       "1        125,000\n",
       "2        110,852\n",
       "3         30,000\n",
       "4        125,206\n",
       "          ...   \n",
       "9261      2650.0\n",
       "9262     99000.0\n",
       "9263    108000.0\n",
       "9264     52485.0\n",
       "9265    124088.0\n",
       "Name: Distance, Length: 9266, dtype: object"
      ]
     },
     "execution_count": 36,
     "metadata": {},
     "output_type": "execute_result"
    }
   ],
   "source": [
    "df['Distance']"
   ]
  }
 ],
 "metadata": {
  "kernelspec": {
   "display_name": "Python 3",
   "language": "python",
   "name": "python3"
  },
  "language_info": {
   "codemirror_mode": {
    "name": "ipython",
    "version": 3
   },
   "file_extension": ".py",
   "mimetype": "text/x-python",
   "name": "python",
   "nbconvert_exporter": "python",
   "pygments_lexer": "ipython3",
   "version": "3.8.8"
  }
 },
 "nbformat": 4,
 "nbformat_minor": 5
}
