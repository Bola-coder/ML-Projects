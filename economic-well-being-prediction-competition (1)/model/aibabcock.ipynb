{
 "cells": [
  {
   "cell_type": "code",
   "execution_count": 1,
   "id": "f6ac7eac",
   "metadata": {},
   "outputs": [],
   "source": [
    "# Importing libraries:\n",
    "import numpy as np\n",
    "import pandas as pd"
   ]
  },
  {
   "cell_type": "code",
   "execution_count": 2,
   "id": "244a3570",
   "metadata": {},
   "outputs": [],
   "source": [
    "import seaborn as sns\n",
    "import matplotlib.pyplot as plt\n",
    "%matplotlib inline"
   ]
  },
  {
   "cell_type": "code",
   "execution_count": 3,
   "id": "a8ddfda2",
   "metadata": {},
   "outputs": [],
   "source": [
    "import warnings\n",
    "warnings.filterwarnings(\"ignore\")"
   ]
  },
  {
   "cell_type": "code",
   "execution_count": 4,
   "id": "3745061f",
   "metadata": {},
   "outputs": [],
   "source": [
    "# Loading the datasets:\n",
    "train = pd.read_csv('./../Train.csv')\n",
    "test = pd.read_csv('./../Test.csv')\n",
    "ss = pd.read_csv('./../SampleSubmission.csv')"
   ]
  },
  {
   "cell_type": "code",
   "execution_count": 5,
   "id": "6eabccbd",
   "metadata": {},
   "outputs": [
    {
     "data": {
      "text/html": [
       "<div>\n",
       "<style scoped>\n",
       "    .dataframe tbody tr th:only-of-type {\n",
       "        vertical-align: middle;\n",
       "    }\n",
       "\n",
       "    .dataframe tbody tr th {\n",
       "        vertical-align: top;\n",
       "    }\n",
       "\n",
       "    .dataframe thead th {\n",
       "        text-align: right;\n",
       "    }\n",
       "</style>\n",
       "<table border=\"1\" class=\"dataframe\">\n",
       "  <thead>\n",
       "    <tr style=\"text-align: right;\">\n",
       "      <th></th>\n",
       "      <th>ID</th>\n",
       "      <th>country</th>\n",
       "      <th>year</th>\n",
       "      <th>urban_or_rural</th>\n",
       "      <th>ghsl_water_surface</th>\n",
       "      <th>ghsl_built_pre_1975</th>\n",
       "      <th>ghsl_built_1975_to_1990</th>\n",
       "      <th>ghsl_built_1990_to_2000</th>\n",
       "      <th>ghsl_built_2000_to_2014</th>\n",
       "      <th>ghsl_not_built_up</th>\n",
       "      <th>ghsl_pop_density</th>\n",
       "      <th>landcover_crops_fraction</th>\n",
       "      <th>landcover_urban_fraction</th>\n",
       "      <th>landcover_water_permanent_10km_fraction</th>\n",
       "      <th>landcover_water_seasonal_10km_fraction</th>\n",
       "      <th>nighttime_lights</th>\n",
       "      <th>dist_to_capital</th>\n",
       "      <th>dist_to_shoreline</th>\n",
       "      <th>Target</th>\n",
       "    </tr>\n",
       "  </thead>\n",
       "  <tbody>\n",
       "    <tr>\n",
       "      <th>0</th>\n",
       "      <td>ID_AAIethGy</td>\n",
       "      <td>Ethiopia</td>\n",
       "      <td>2016</td>\n",
       "      <td>R</td>\n",
       "      <td>0.0</td>\n",
       "      <td>0.000000</td>\n",
       "      <td>0.000000</td>\n",
       "      <td>0.000055</td>\n",
       "      <td>0.000536</td>\n",
       "      <td>0.999408</td>\n",
       "      <td>12.146134</td>\n",
       "      <td>25.489659</td>\n",
       "      <td>0.879484</td>\n",
       "      <td>0.000000</td>\n",
       "      <td>0.000000</td>\n",
       "      <td>0.000000</td>\n",
       "      <td>278.788451</td>\n",
       "      <td>769.338378</td>\n",
       "      <td>0.132783</td>\n",
       "    </tr>\n",
       "    <tr>\n",
       "      <th>1</th>\n",
       "      <td>ID_AAYiaCeL</td>\n",
       "      <td>Ethiopia</td>\n",
       "      <td>2005</td>\n",
       "      <td>R</td>\n",
       "      <td>0.0</td>\n",
       "      <td>0.000000</td>\n",
       "      <td>0.000110</td>\n",
       "      <td>0.000000</td>\n",
       "      <td>0.000018</td>\n",
       "      <td>0.999872</td>\n",
       "      <td>113.806716</td>\n",
       "      <td>64.136053</td>\n",
       "      <td>0.601427</td>\n",
       "      <td>0.000000</td>\n",
       "      <td>0.005427</td>\n",
       "      <td>0.000000</td>\n",
       "      <td>200.986978</td>\n",
       "      <td>337.135243</td>\n",
       "      <td>0.004898</td>\n",
       "    </tr>\n",
       "    <tr>\n",
       "      <th>2</th>\n",
       "      <td>ID_AAdurmKj</td>\n",
       "      <td>Mozambique</td>\n",
       "      <td>2009</td>\n",
       "      <td>R</td>\n",
       "      <td>0.0</td>\n",
       "      <td>0.000000</td>\n",
       "      <td>0.000000</td>\n",
       "      <td>0.000000</td>\n",
       "      <td>0.000000</td>\n",
       "      <td>1.000000</td>\n",
       "      <td>0.000000</td>\n",
       "      <td>4.400096</td>\n",
       "      <td>0.131900</td>\n",
       "      <td>0.000000</td>\n",
       "      <td>0.003078</td>\n",
       "      <td>0.000000</td>\n",
       "      <td>642.594208</td>\n",
       "      <td>169.913773</td>\n",
       "      <td>0.097320</td>\n",
       "    </tr>\n",
       "    <tr>\n",
       "      <th>3</th>\n",
       "      <td>ID_AAgNHles</td>\n",
       "      <td>Malawi</td>\n",
       "      <td>2015</td>\n",
       "      <td>R</td>\n",
       "      <td>0.0</td>\n",
       "      <td>0.000141</td>\n",
       "      <td>0.000181</td>\n",
       "      <td>0.000254</td>\n",
       "      <td>0.000228</td>\n",
       "      <td>0.999195</td>\n",
       "      <td>5.213320</td>\n",
       "      <td>25.379371</td>\n",
       "      <td>2.017136</td>\n",
       "      <td>11.293841</td>\n",
       "      <td>0.131035</td>\n",
       "      <td>0.000000</td>\n",
       "      <td>365.349451</td>\n",
       "      <td>613.591610</td>\n",
       "      <td>0.304107</td>\n",
       "    </tr>\n",
       "    <tr>\n",
       "      <th>4</th>\n",
       "      <td>ID_AAishfND</td>\n",
       "      <td>Guinea</td>\n",
       "      <td>2012</td>\n",
       "      <td>U</td>\n",
       "      <td>0.0</td>\n",
       "      <td>0.011649</td>\n",
       "      <td>0.017560</td>\n",
       "      <td>0.017383</td>\n",
       "      <td>0.099875</td>\n",
       "      <td>0.853533</td>\n",
       "      <td>31.734661</td>\n",
       "      <td>5.081620</td>\n",
       "      <td>22.815984</td>\n",
       "      <td>0.005047</td>\n",
       "      <td>0.130475</td>\n",
       "      <td>1.461894</td>\n",
       "      <td>222.867189</td>\n",
       "      <td>192.926363</td>\n",
       "      <td>0.605328</td>\n",
       "    </tr>\n",
       "  </tbody>\n",
       "</table>\n",
       "</div>"
      ],
      "text/plain": [
       "            ID     country  year urban_or_rural  ghsl_water_surface  \\\n",
       "0  ID_AAIethGy    Ethiopia  2016              R                 0.0   \n",
       "1  ID_AAYiaCeL    Ethiopia  2005              R                 0.0   \n",
       "2  ID_AAdurmKj  Mozambique  2009              R                 0.0   \n",
       "3  ID_AAgNHles      Malawi  2015              R                 0.0   \n",
       "4  ID_AAishfND      Guinea  2012              U                 0.0   \n",
       "\n",
       "   ghsl_built_pre_1975  ghsl_built_1975_to_1990  ghsl_built_1990_to_2000  \\\n",
       "0             0.000000                 0.000000                 0.000055   \n",
       "1             0.000000                 0.000110                 0.000000   \n",
       "2             0.000000                 0.000000                 0.000000   \n",
       "3             0.000141                 0.000181                 0.000254   \n",
       "4             0.011649                 0.017560                 0.017383   \n",
       "\n",
       "   ghsl_built_2000_to_2014  ghsl_not_built_up  ghsl_pop_density  \\\n",
       "0                 0.000536           0.999408         12.146134   \n",
       "1                 0.000018           0.999872        113.806716   \n",
       "2                 0.000000           1.000000          0.000000   \n",
       "3                 0.000228           0.999195          5.213320   \n",
       "4                 0.099875           0.853533         31.734661   \n",
       "\n",
       "   landcover_crops_fraction  landcover_urban_fraction  \\\n",
       "0                 25.489659                  0.879484   \n",
       "1                 64.136053                  0.601427   \n",
       "2                  4.400096                  0.131900   \n",
       "3                 25.379371                  2.017136   \n",
       "4                  5.081620                 22.815984   \n",
       "\n",
       "   landcover_water_permanent_10km_fraction  \\\n",
       "0                                 0.000000   \n",
       "1                                 0.000000   \n",
       "2                                 0.000000   \n",
       "3                                11.293841   \n",
       "4                                 0.005047   \n",
       "\n",
       "   landcover_water_seasonal_10km_fraction  nighttime_lights  dist_to_capital  \\\n",
       "0                                0.000000          0.000000       278.788451   \n",
       "1                                0.005427          0.000000       200.986978   \n",
       "2                                0.003078          0.000000       642.594208   \n",
       "3                                0.131035          0.000000       365.349451   \n",
       "4                                0.130475          1.461894       222.867189   \n",
       "\n",
       "   dist_to_shoreline    Target  \n",
       "0         769.338378  0.132783  \n",
       "1         337.135243  0.004898  \n",
       "2         169.913773  0.097320  \n",
       "3         613.591610  0.304107  \n",
       "4         192.926363  0.605328  "
      ]
     },
     "execution_count": 5,
     "metadata": {},
     "output_type": "execute_result"
    }
   ],
   "source": [
    "train.head()"
   ]
  },
  {
   "cell_type": "code",
   "execution_count": 6,
   "id": "49e78711",
   "metadata": {},
   "outputs": [
    {
     "data": {
      "text/html": [
       "<div>\n",
       "<style scoped>\n",
       "    .dataframe tbody tr th:only-of-type {\n",
       "        vertical-align: middle;\n",
       "    }\n",
       "\n",
       "    .dataframe tbody tr th {\n",
       "        vertical-align: top;\n",
       "    }\n",
       "\n",
       "    .dataframe thead th {\n",
       "        text-align: right;\n",
       "    }\n",
       "</style>\n",
       "<table border=\"1\" class=\"dataframe\">\n",
       "  <thead>\n",
       "    <tr style=\"text-align: right;\">\n",
       "      <th></th>\n",
       "      <th>ID</th>\n",
       "      <th>country</th>\n",
       "      <th>year</th>\n",
       "      <th>urban_or_rural</th>\n",
       "      <th>ghsl_water_surface</th>\n",
       "      <th>ghsl_built_pre_1975</th>\n",
       "      <th>ghsl_built_1975_to_1990</th>\n",
       "      <th>ghsl_built_1990_to_2000</th>\n",
       "      <th>ghsl_built_2000_to_2014</th>\n",
       "      <th>ghsl_not_built_up</th>\n",
       "      <th>ghsl_pop_density</th>\n",
       "      <th>landcover_crops_fraction</th>\n",
       "      <th>landcover_urban_fraction</th>\n",
       "      <th>landcover_water_permanent_10km_fraction</th>\n",
       "      <th>landcover_water_seasonal_10km_fraction</th>\n",
       "      <th>nighttime_lights</th>\n",
       "      <th>dist_to_capital</th>\n",
       "      <th>dist_to_shoreline</th>\n",
       "    </tr>\n",
       "  </thead>\n",
       "  <tbody>\n",
       "    <tr>\n",
       "      <th>0</th>\n",
       "      <td>ID_AAcismbB</td>\n",
       "      <td>Democratic Republic of Congo</td>\n",
       "      <td>2007</td>\n",
       "      <td>R</td>\n",
       "      <td>0.000000</td>\n",
       "      <td>0.000000</td>\n",
       "      <td>0.000000</td>\n",
       "      <td>0.000523</td>\n",
       "      <td>0.000131</td>\n",
       "      <td>0.999347</td>\n",
       "      <td>0.660758</td>\n",
       "      <td>0.990942</td>\n",
       "      <td>0.132264</td>\n",
       "      <td>0.069055</td>\n",
       "      <td>0.032627</td>\n",
       "      <td>0.000000</td>\n",
       "      <td>1249.294720</td>\n",
       "      <td>1364.592100</td>\n",
       "    </tr>\n",
       "    <tr>\n",
       "      <th>1</th>\n",
       "      <td>ID_AAeBMsji</td>\n",
       "      <td>Democratic Republic of Congo</td>\n",
       "      <td>2007</td>\n",
       "      <td>U</td>\n",
       "      <td>0.000000</td>\n",
       "      <td>0.004239</td>\n",
       "      <td>0.000238</td>\n",
       "      <td>0.001227</td>\n",
       "      <td>0.002860</td>\n",
       "      <td>0.991437</td>\n",
       "      <td>6.441547</td>\n",
       "      <td>5.461365</td>\n",
       "      <td>0.452400</td>\n",
       "      <td>0.000000</td>\n",
       "      <td>0.000000</td>\n",
       "      <td>0.000000</td>\n",
       "      <td>821.019579</td>\n",
       "      <td>1046.028681</td>\n",
       "    </tr>\n",
       "    <tr>\n",
       "      <th>2</th>\n",
       "      <td>ID_AAjFMjzy</td>\n",
       "      <td>Uganda</td>\n",
       "      <td>2011</td>\n",
       "      <td>U</td>\n",
       "      <td>0.007359</td>\n",
       "      <td>0.525682</td>\n",
       "      <td>0.132795</td>\n",
       "      <td>0.095416</td>\n",
       "      <td>0.042375</td>\n",
       "      <td>0.196373</td>\n",
       "      <td>587.516458</td>\n",
       "      <td>2.881811</td>\n",
       "      <td>87.387991</td>\n",
       "      <td>3.248483</td>\n",
       "      <td>3.950374</td>\n",
       "      <td>60.070041</td>\n",
       "      <td>3.620455</td>\n",
       "      <td>906.057334</td>\n",
       "    </tr>\n",
       "    <tr>\n",
       "      <th>3</th>\n",
       "      <td>ID_AAmMOEEC</td>\n",
       "      <td>Burkina Faso</td>\n",
       "      <td>2010</td>\n",
       "      <td>U</td>\n",
       "      <td>0.000000</td>\n",
       "      <td>0.000089</td>\n",
       "      <td>0.000036</td>\n",
       "      <td>0.001519</td>\n",
       "      <td>0.001358</td>\n",
       "      <td>0.996997</td>\n",
       "      <td>35.141762</td>\n",
       "      <td>33.878927</td>\n",
       "      <td>4.166437</td>\n",
       "      <td>0.000000</td>\n",
       "      <td>0.130727</td>\n",
       "      <td>1.333999</td>\n",
       "      <td>109.493969</td>\n",
       "      <td>775.139189</td>\n",
       "    </tr>\n",
       "    <tr>\n",
       "      <th>4</th>\n",
       "      <td>ID_ABguzDxp</td>\n",
       "      <td>Zambia</td>\n",
       "      <td>2007</td>\n",
       "      <td>R</td>\n",
       "      <td>0.000000</td>\n",
       "      <td>0.000138</td>\n",
       "      <td>0.000623</td>\n",
       "      <td>0.000615</td>\n",
       "      <td>0.002961</td>\n",
       "      <td>0.995663</td>\n",
       "      <td>3.442449</td>\n",
       "      <td>33.491994</td>\n",
       "      <td>3.437129</td>\n",
       "      <td>0.133563</td>\n",
       "      <td>0.128997</td>\n",
       "      <td>0.502203</td>\n",
       "      <td>133.643319</td>\n",
       "      <td>835.591501</td>\n",
       "    </tr>\n",
       "  </tbody>\n",
       "</table>\n",
       "</div>"
      ],
      "text/plain": [
       "            ID                       country  year urban_or_rural  \\\n",
       "0  ID_AAcismbB  Democratic Republic of Congo  2007              R   \n",
       "1  ID_AAeBMsji  Democratic Republic of Congo  2007              U   \n",
       "2  ID_AAjFMjzy                        Uganda  2011              U   \n",
       "3  ID_AAmMOEEC                  Burkina Faso  2010              U   \n",
       "4  ID_ABguzDxp                        Zambia  2007              R   \n",
       "\n",
       "   ghsl_water_surface  ghsl_built_pre_1975  ghsl_built_1975_to_1990  \\\n",
       "0            0.000000             0.000000                 0.000000   \n",
       "1            0.000000             0.004239                 0.000238   \n",
       "2            0.007359             0.525682                 0.132795   \n",
       "3            0.000000             0.000089                 0.000036   \n",
       "4            0.000000             0.000138                 0.000623   \n",
       "\n",
       "   ghsl_built_1990_to_2000  ghsl_built_2000_to_2014  ghsl_not_built_up  \\\n",
       "0                 0.000523                 0.000131           0.999347   \n",
       "1                 0.001227                 0.002860           0.991437   \n",
       "2                 0.095416                 0.042375           0.196373   \n",
       "3                 0.001519                 0.001358           0.996997   \n",
       "4                 0.000615                 0.002961           0.995663   \n",
       "\n",
       "   ghsl_pop_density  landcover_crops_fraction  landcover_urban_fraction  \\\n",
       "0          0.660758                  0.990942                  0.132264   \n",
       "1          6.441547                  5.461365                  0.452400   \n",
       "2        587.516458                  2.881811                 87.387991   \n",
       "3         35.141762                 33.878927                  4.166437   \n",
       "4          3.442449                 33.491994                  3.437129   \n",
       "\n",
       "   landcover_water_permanent_10km_fraction  \\\n",
       "0                                 0.069055   \n",
       "1                                 0.000000   \n",
       "2                                 3.248483   \n",
       "3                                 0.000000   \n",
       "4                                 0.133563   \n",
       "\n",
       "   landcover_water_seasonal_10km_fraction  nighttime_lights  dist_to_capital  \\\n",
       "0                                0.032627          0.000000      1249.294720   \n",
       "1                                0.000000          0.000000       821.019579   \n",
       "2                                3.950374         60.070041         3.620455   \n",
       "3                                0.130727          1.333999       109.493969   \n",
       "4                                0.128997          0.502203       133.643319   \n",
       "\n",
       "   dist_to_shoreline  \n",
       "0        1364.592100  \n",
       "1        1046.028681  \n",
       "2         906.057334  \n",
       "3         775.139189  \n",
       "4         835.591501  "
      ]
     },
     "execution_count": 6,
     "metadata": {},
     "output_type": "execute_result"
    }
   ],
   "source": [
    "test.head()"
   ]
  },
  {
   "cell_type": "code",
   "execution_count": 7,
   "id": "d4395f29",
   "metadata": {},
   "outputs": [
    {
     "data": {
      "text/plain": [
       "((21454, 19), (7194, 18))"
      ]
     },
     "execution_count": 7,
     "metadata": {},
     "output_type": "execute_result"
    }
   ],
   "source": [
    "train.shape, test.shape"
   ]
  },
  {
   "cell_type": "code",
   "execution_count": 8,
   "id": "887346fb",
   "metadata": {},
   "outputs": [],
   "source": [
    "y = train['Target']"
   ]
  },
  {
   "cell_type": "code",
   "execution_count": 9,
   "id": "fc7a23f7",
   "metadata": {},
   "outputs": [
    {
     "data": {
      "text/plain": [
       "0        0.132783\n",
       "1        0.004898\n",
       "2        0.097320\n",
       "3        0.304107\n",
       "4        0.605328\n",
       "           ...   \n",
       "21449    0.624088\n",
       "21450    0.250042\n",
       "21451    0.314871\n",
       "21452    0.237831\n",
       "21453    0.165071\n",
       "Name: Target, Length: 21454, dtype: float64"
      ]
     },
     "execution_count": 9,
     "metadata": {},
     "output_type": "execute_result"
    }
   ],
   "source": [
    "y"
   ]
  },
  {
   "cell_type": "code",
   "execution_count": 10,
   "id": "0f1259df",
   "metadata": {},
   "outputs": [],
   "source": [
    "train.drop('Target', axis=1, inplace= True)"
   ]
  },
  {
   "cell_type": "code",
   "execution_count": 11,
   "id": "d8ae0881",
   "metadata": {},
   "outputs": [],
   "source": [
    "# Adding unique identifiers to train and test sets\n",
    "train['source'] = 'train'\n",
    "test['source'] = 'test'"
   ]
  },
  {
   "cell_type": "code",
   "execution_count": 12,
   "id": "e5cec5d8",
   "metadata": {},
   "outputs": [],
   "source": [
    "# Concatenation both train and test sets together so i can perform EDA on them\n",
    "df = pd.concat((train, test), ignore_index=True)"
   ]
  },
  {
   "cell_type": "code",
   "execution_count": 13,
   "id": "b209ef19",
   "metadata": {},
   "outputs": [
    {
     "data": {
      "text/html": [
       "<div>\n",
       "<style scoped>\n",
       "    .dataframe tbody tr th:only-of-type {\n",
       "        vertical-align: middle;\n",
       "    }\n",
       "\n",
       "    .dataframe tbody tr th {\n",
       "        vertical-align: top;\n",
       "    }\n",
       "\n",
       "    .dataframe thead th {\n",
       "        text-align: right;\n",
       "    }\n",
       "</style>\n",
       "<table border=\"1\" class=\"dataframe\">\n",
       "  <thead>\n",
       "    <tr style=\"text-align: right;\">\n",
       "      <th></th>\n",
       "      <th>ID</th>\n",
       "      <th>country</th>\n",
       "      <th>year</th>\n",
       "      <th>urban_or_rural</th>\n",
       "      <th>ghsl_water_surface</th>\n",
       "      <th>ghsl_built_pre_1975</th>\n",
       "      <th>ghsl_built_1975_to_1990</th>\n",
       "      <th>ghsl_built_1990_to_2000</th>\n",
       "      <th>ghsl_built_2000_to_2014</th>\n",
       "      <th>ghsl_not_built_up</th>\n",
       "      <th>ghsl_pop_density</th>\n",
       "      <th>landcover_crops_fraction</th>\n",
       "      <th>landcover_urban_fraction</th>\n",
       "      <th>landcover_water_permanent_10km_fraction</th>\n",
       "      <th>landcover_water_seasonal_10km_fraction</th>\n",
       "      <th>nighttime_lights</th>\n",
       "      <th>dist_to_capital</th>\n",
       "      <th>dist_to_shoreline</th>\n",
       "      <th>source</th>\n",
       "    </tr>\n",
       "  </thead>\n",
       "  <tbody>\n",
       "    <tr>\n",
       "      <th>0</th>\n",
       "      <td>ID_AAIethGy</td>\n",
       "      <td>Ethiopia</td>\n",
       "      <td>2016</td>\n",
       "      <td>R</td>\n",
       "      <td>0.0</td>\n",
       "      <td>0.000000</td>\n",
       "      <td>0.000000</td>\n",
       "      <td>0.000055</td>\n",
       "      <td>0.000536</td>\n",
       "      <td>0.999408</td>\n",
       "      <td>12.146134</td>\n",
       "      <td>25.489659</td>\n",
       "      <td>0.879484</td>\n",
       "      <td>0.000000</td>\n",
       "      <td>0.000000</td>\n",
       "      <td>0.000000</td>\n",
       "      <td>278.788451</td>\n",
       "      <td>769.338378</td>\n",
       "      <td>train</td>\n",
       "    </tr>\n",
       "    <tr>\n",
       "      <th>1</th>\n",
       "      <td>ID_AAYiaCeL</td>\n",
       "      <td>Ethiopia</td>\n",
       "      <td>2005</td>\n",
       "      <td>R</td>\n",
       "      <td>0.0</td>\n",
       "      <td>0.000000</td>\n",
       "      <td>0.000110</td>\n",
       "      <td>0.000000</td>\n",
       "      <td>0.000018</td>\n",
       "      <td>0.999872</td>\n",
       "      <td>113.806716</td>\n",
       "      <td>64.136053</td>\n",
       "      <td>0.601427</td>\n",
       "      <td>0.000000</td>\n",
       "      <td>0.005427</td>\n",
       "      <td>0.000000</td>\n",
       "      <td>200.986978</td>\n",
       "      <td>337.135243</td>\n",
       "      <td>train</td>\n",
       "    </tr>\n",
       "    <tr>\n",
       "      <th>2</th>\n",
       "      <td>ID_AAdurmKj</td>\n",
       "      <td>Mozambique</td>\n",
       "      <td>2009</td>\n",
       "      <td>R</td>\n",
       "      <td>0.0</td>\n",
       "      <td>0.000000</td>\n",
       "      <td>0.000000</td>\n",
       "      <td>0.000000</td>\n",
       "      <td>0.000000</td>\n",
       "      <td>1.000000</td>\n",
       "      <td>0.000000</td>\n",
       "      <td>4.400096</td>\n",
       "      <td>0.131900</td>\n",
       "      <td>0.000000</td>\n",
       "      <td>0.003078</td>\n",
       "      <td>0.000000</td>\n",
       "      <td>642.594208</td>\n",
       "      <td>169.913773</td>\n",
       "      <td>train</td>\n",
       "    </tr>\n",
       "    <tr>\n",
       "      <th>3</th>\n",
       "      <td>ID_AAgNHles</td>\n",
       "      <td>Malawi</td>\n",
       "      <td>2015</td>\n",
       "      <td>R</td>\n",
       "      <td>0.0</td>\n",
       "      <td>0.000141</td>\n",
       "      <td>0.000181</td>\n",
       "      <td>0.000254</td>\n",
       "      <td>0.000228</td>\n",
       "      <td>0.999195</td>\n",
       "      <td>5.213320</td>\n",
       "      <td>25.379371</td>\n",
       "      <td>2.017136</td>\n",
       "      <td>11.293841</td>\n",
       "      <td>0.131035</td>\n",
       "      <td>0.000000</td>\n",
       "      <td>365.349451</td>\n",
       "      <td>613.591610</td>\n",
       "      <td>train</td>\n",
       "    </tr>\n",
       "    <tr>\n",
       "      <th>4</th>\n",
       "      <td>ID_AAishfND</td>\n",
       "      <td>Guinea</td>\n",
       "      <td>2012</td>\n",
       "      <td>U</td>\n",
       "      <td>0.0</td>\n",
       "      <td>0.011649</td>\n",
       "      <td>0.017560</td>\n",
       "      <td>0.017383</td>\n",
       "      <td>0.099875</td>\n",
       "      <td>0.853533</td>\n",
       "      <td>31.734661</td>\n",
       "      <td>5.081620</td>\n",
       "      <td>22.815984</td>\n",
       "      <td>0.005047</td>\n",
       "      <td>0.130475</td>\n",
       "      <td>1.461894</td>\n",
       "      <td>222.867189</td>\n",
       "      <td>192.926363</td>\n",
       "      <td>train</td>\n",
       "    </tr>\n",
       "  </tbody>\n",
       "</table>\n",
       "</div>"
      ],
      "text/plain": [
       "            ID     country  year urban_or_rural  ghsl_water_surface  \\\n",
       "0  ID_AAIethGy    Ethiopia  2016              R                 0.0   \n",
       "1  ID_AAYiaCeL    Ethiopia  2005              R                 0.0   \n",
       "2  ID_AAdurmKj  Mozambique  2009              R                 0.0   \n",
       "3  ID_AAgNHles      Malawi  2015              R                 0.0   \n",
       "4  ID_AAishfND      Guinea  2012              U                 0.0   \n",
       "\n",
       "   ghsl_built_pre_1975  ghsl_built_1975_to_1990  ghsl_built_1990_to_2000  \\\n",
       "0             0.000000                 0.000000                 0.000055   \n",
       "1             0.000000                 0.000110                 0.000000   \n",
       "2             0.000000                 0.000000                 0.000000   \n",
       "3             0.000141                 0.000181                 0.000254   \n",
       "4             0.011649                 0.017560                 0.017383   \n",
       "\n",
       "   ghsl_built_2000_to_2014  ghsl_not_built_up  ghsl_pop_density  \\\n",
       "0                 0.000536           0.999408         12.146134   \n",
       "1                 0.000018           0.999872        113.806716   \n",
       "2                 0.000000           1.000000          0.000000   \n",
       "3                 0.000228           0.999195          5.213320   \n",
       "4                 0.099875           0.853533         31.734661   \n",
       "\n",
       "   landcover_crops_fraction  landcover_urban_fraction  \\\n",
       "0                 25.489659                  0.879484   \n",
       "1                 64.136053                  0.601427   \n",
       "2                  4.400096                  0.131900   \n",
       "3                 25.379371                  2.017136   \n",
       "4                  5.081620                 22.815984   \n",
       "\n",
       "   landcover_water_permanent_10km_fraction  \\\n",
       "0                                 0.000000   \n",
       "1                                 0.000000   \n",
       "2                                 0.000000   \n",
       "3                                11.293841   \n",
       "4                                 0.005047   \n",
       "\n",
       "   landcover_water_seasonal_10km_fraction  nighttime_lights  dist_to_capital  \\\n",
       "0                                0.000000          0.000000       278.788451   \n",
       "1                                0.005427          0.000000       200.986978   \n",
       "2                                0.003078          0.000000       642.594208   \n",
       "3                                0.131035          0.000000       365.349451   \n",
       "4                                0.130475          1.461894       222.867189   \n",
       "\n",
       "   dist_to_shoreline source  \n",
       "0         769.338378  train  \n",
       "1         337.135243  train  \n",
       "2         169.913773  train  \n",
       "3         613.591610  train  \n",
       "4         192.926363  train  "
      ]
     },
     "execution_count": 13,
     "metadata": {},
     "output_type": "execute_result"
    }
   ],
   "source": [
    "df.head()"
   ]
  },
  {
   "cell_type": "code",
   "execution_count": 14,
   "id": "f6a214c1",
   "metadata": {},
   "outputs": [
    {
     "name": "stdout",
     "output_type": "stream",
     "text": [
      "<class 'pandas.core.frame.DataFrame'>\n",
      "RangeIndex: 28648 entries, 0 to 28647\n",
      "Data columns (total 19 columns):\n",
      " #   Column                                   Non-Null Count  Dtype  \n",
      "---  ------                                   --------------  -----  \n",
      " 0   ID                                       28648 non-null  object \n",
      " 1   country                                  28648 non-null  object \n",
      " 2   year                                     28648 non-null  int64  \n",
      " 3   urban_or_rural                           28648 non-null  object \n",
      " 4   ghsl_water_surface                       28648 non-null  float64\n",
      " 5   ghsl_built_pre_1975                      28648 non-null  float64\n",
      " 6   ghsl_built_1975_to_1990                  28648 non-null  float64\n",
      " 7   ghsl_built_1990_to_2000                  28648 non-null  float64\n",
      " 8   ghsl_built_2000_to_2014                  28648 non-null  float64\n",
      " 9   ghsl_not_built_up                        28648 non-null  float64\n",
      " 10  ghsl_pop_density                         28648 non-null  float64\n",
      " 11  landcover_crops_fraction                 28648 non-null  float64\n",
      " 12  landcover_urban_fraction                 28648 non-null  float64\n",
      " 13  landcover_water_permanent_10km_fraction  28648 non-null  float64\n",
      " 14  landcover_water_seasonal_10km_fraction   28648 non-null  float64\n",
      " 15  nighttime_lights                         28648 non-null  float64\n",
      " 16  dist_to_capital                          28648 non-null  float64\n",
      " 17  dist_to_shoreline                        28648 non-null  float64\n",
      " 18  source                                   28648 non-null  object \n",
      "dtypes: float64(14), int64(1), object(4)\n",
      "memory usage: 4.2+ MB\n"
     ]
    },
    {
     "data": {
      "text/plain": [
       "ID                                         0\n",
       "country                                    0\n",
       "year                                       0\n",
       "urban_or_rural                             0\n",
       "ghsl_water_surface                         0\n",
       "ghsl_built_pre_1975                        0\n",
       "ghsl_built_1975_to_1990                    0\n",
       "ghsl_built_1990_to_2000                    0\n",
       "ghsl_built_2000_to_2014                    0\n",
       "ghsl_not_built_up                          0\n",
       "ghsl_pop_density                           0\n",
       "landcover_crops_fraction                   0\n",
       "landcover_urban_fraction                   0\n",
       "landcover_water_permanent_10km_fraction    0\n",
       "landcover_water_seasonal_10km_fraction     0\n",
       "nighttime_lights                           0\n",
       "dist_to_capital                            0\n",
       "dist_to_shoreline                          0\n",
       "source                                     0\n",
       "dtype: int64"
      ]
     },
     "execution_count": 14,
     "metadata": {},
     "output_type": "execute_result"
    }
   ],
   "source": [
    "# Checking for missing values\n",
    "df.info()\n",
    "df.isnull().sum()"
   ]
  },
  {
   "cell_type": "markdown",
   "id": "73b40f57",
   "metadata": {},
   "source": [
    "#### Conclusion is no missing values"
   ]
  },
  {
   "cell_type": "code",
   "execution_count": 15,
   "id": "a52892e6",
   "metadata": {},
   "outputs": [],
   "source": [
    "# Performing EDA:"
   ]
  },
  {
   "cell_type": "code",
   "execution_count": 16,
   "id": "eacab132",
   "metadata": {},
   "outputs": [
    {
     "data": {
      "text/html": [
       "<div>\n",
       "<style scoped>\n",
       "    .dataframe tbody tr th:only-of-type {\n",
       "        vertical-align: middle;\n",
       "    }\n",
       "\n",
       "    .dataframe tbody tr th {\n",
       "        vertical-align: top;\n",
       "    }\n",
       "\n",
       "    .dataframe thead th {\n",
       "        text-align: right;\n",
       "    }\n",
       "</style>\n",
       "<table border=\"1\" class=\"dataframe\">\n",
       "  <thead>\n",
       "    <tr style=\"text-align: right;\">\n",
       "      <th></th>\n",
       "      <th>count</th>\n",
       "      <th>mean</th>\n",
       "      <th>std</th>\n",
       "      <th>min</th>\n",
       "      <th>25%</th>\n",
       "      <th>50%</th>\n",
       "      <th>75%</th>\n",
       "      <th>max</th>\n",
       "    </tr>\n",
       "  </thead>\n",
       "  <tbody>\n",
       "    <tr>\n",
       "      <th>year</th>\n",
       "      <td>28648.0</td>\n",
       "      <td>2010.271537</td>\n",
       "      <td>4.553145</td>\n",
       "      <td>1994.000000</td>\n",
       "      <td>2008.000000</td>\n",
       "      <td>2011.000000</td>\n",
       "      <td>2014.000000</td>\n",
       "      <td>2016.000000</td>\n",
       "    </tr>\n",
       "    <tr>\n",
       "      <th>ghsl_water_surface</th>\n",
       "      <td>28648.0</td>\n",
       "      <td>0.027018</td>\n",
       "      <td>0.095199</td>\n",
       "      <td>0.000000</td>\n",
       "      <td>0.000000</td>\n",
       "      <td>0.000000</td>\n",
       "      <td>0.000000</td>\n",
       "      <td>0.991100</td>\n",
       "    </tr>\n",
       "    <tr>\n",
       "      <th>ghsl_built_pre_1975</th>\n",
       "      <td>28648.0</td>\n",
       "      <td>0.041010</td>\n",
       "      <td>0.118721</td>\n",
       "      <td>0.000000</td>\n",
       "      <td>0.000000</td>\n",
       "      <td>0.000160</td>\n",
       "      <td>0.008011</td>\n",
       "      <td>0.894608</td>\n",
       "    </tr>\n",
       "    <tr>\n",
       "      <th>ghsl_built_1975_to_1990</th>\n",
       "      <td>28648.0</td>\n",
       "      <td>0.027820</td>\n",
       "      <td>0.072850</td>\n",
       "      <td>0.000000</td>\n",
       "      <td>0.000000</td>\n",
       "      <td>0.000602</td>\n",
       "      <td>0.010037</td>\n",
       "      <td>0.685010</td>\n",
       "    </tr>\n",
       "    <tr>\n",
       "      <th>ghsl_built_1990_to_2000</th>\n",
       "      <td>28648.0</td>\n",
       "      <td>0.013713</td>\n",
       "      <td>0.034208</td>\n",
       "      <td>0.000000</td>\n",
       "      <td>0.000037</td>\n",
       "      <td>0.000936</td>\n",
       "      <td>0.008823</td>\n",
       "      <td>0.515534</td>\n",
       "    </tr>\n",
       "    <tr>\n",
       "      <th>ghsl_built_2000_to_2014</th>\n",
       "      <td>28648.0</td>\n",
       "      <td>0.018369</td>\n",
       "      <td>0.040241</td>\n",
       "      <td>0.000000</td>\n",
       "      <td>0.000109</td>\n",
       "      <td>0.001727</td>\n",
       "      <td>0.015209</td>\n",
       "      <td>0.649159</td>\n",
       "    </tr>\n",
       "    <tr>\n",
       "      <th>ghsl_not_built_up</th>\n",
       "      <td>28648.0</td>\n",
       "      <td>0.872069</td>\n",
       "      <td>0.242707</td>\n",
       "      <td>0.000859</td>\n",
       "      <td>0.895615</td>\n",
       "      <td>0.992725</td>\n",
       "      <td>0.999592</td>\n",
       "      <td>1.000000</td>\n",
       "    </tr>\n",
       "    <tr>\n",
       "      <th>ghsl_pop_density</th>\n",
       "      <td>28648.0</td>\n",
       "      <td>95.101508</td>\n",
       "      <td>210.079701</td>\n",
       "      <td>0.000000</td>\n",
       "      <td>2.943082</td>\n",
       "      <td>16.424158</td>\n",
       "      <td>64.364772</td>\n",
       "      <td>1902.876955</td>\n",
       "    </tr>\n",
       "    <tr>\n",
       "      <th>landcover_crops_fraction</th>\n",
       "      <td>28648.0</td>\n",
       "      <td>21.097237</td>\n",
       "      <td>16.309999</td>\n",
       "      <td>0.000000</td>\n",
       "      <td>6.105505</td>\n",
       "      <td>19.297194</td>\n",
       "      <td>33.199903</td>\n",
       "      <td>80.064918</td>\n",
       "    </tr>\n",
       "    <tr>\n",
       "      <th>landcover_urban_fraction</th>\n",
       "      <td>28648.0</td>\n",
       "      <td>14.079153</td>\n",
       "      <td>23.917510</td>\n",
       "      <td>0.000000</td>\n",
       "      <td>0.705307</td>\n",
       "      <td>2.599028</td>\n",
       "      <td>13.063126</td>\n",
       "      <td>98.784092</td>\n",
       "    </tr>\n",
       "    <tr>\n",
       "      <th>landcover_water_permanent_10km_fraction</th>\n",
       "      <td>28648.0</td>\n",
       "      <td>1.668968</td>\n",
       "      <td>7.152657</td>\n",
       "      <td>0.000000</td>\n",
       "      <td>0.000000</td>\n",
       "      <td>0.000579</td>\n",
       "      <td>0.172243</td>\n",
       "      <td>99.164018</td>\n",
       "    </tr>\n",
       "    <tr>\n",
       "      <th>landcover_water_seasonal_10km_fraction</th>\n",
       "      <td>28648.0</td>\n",
       "      <td>0.694652</td>\n",
       "      <td>2.383790</td>\n",
       "      <td>0.000000</td>\n",
       "      <td>0.001394</td>\n",
       "      <td>0.033941</td>\n",
       "      <td>0.375420</td>\n",
       "      <td>56.201637</td>\n",
       "    </tr>\n",
       "    <tr>\n",
       "      <th>nighttime_lights</th>\n",
       "      <td>28648.0</td>\n",
       "      <td>9.260498</td>\n",
       "      <td>26.160952</td>\n",
       "      <td>0.000000</td>\n",
       "      <td>0.000000</td>\n",
       "      <td>0.024074</td>\n",
       "      <td>4.963472</td>\n",
       "      <td>403.455783</td>\n",
       "    </tr>\n",
       "    <tr>\n",
       "      <th>dist_to_capital</th>\n",
       "      <td>28648.0</td>\n",
       "      <td>300.584775</td>\n",
       "      <td>269.097712</td>\n",
       "      <td>0.105306</td>\n",
       "      <td>110.789483</td>\n",
       "      <td>253.537926</td>\n",
       "      <td>403.780077</td>\n",
       "      <td>1908.105037</td>\n",
       "    </tr>\n",
       "    <tr>\n",
       "      <th>dist_to_shoreline</th>\n",
       "      <td>28648.0</td>\n",
       "      <td>473.801360</td>\n",
       "      <td>355.856845</td>\n",
       "      <td>0.112080</td>\n",
       "      <td>158.829182</td>\n",
       "      <td>420.442368</td>\n",
       "      <td>732.552186</td>\n",
       "      <td>1769.523906</td>\n",
       "    </tr>\n",
       "  </tbody>\n",
       "</table>\n",
       "</div>"
      ],
      "text/plain": [
       "                                           count         mean         std  \\\n",
       "year                                     28648.0  2010.271537    4.553145   \n",
       "ghsl_water_surface                       28648.0     0.027018    0.095199   \n",
       "ghsl_built_pre_1975                      28648.0     0.041010    0.118721   \n",
       "ghsl_built_1975_to_1990                  28648.0     0.027820    0.072850   \n",
       "ghsl_built_1990_to_2000                  28648.0     0.013713    0.034208   \n",
       "ghsl_built_2000_to_2014                  28648.0     0.018369    0.040241   \n",
       "ghsl_not_built_up                        28648.0     0.872069    0.242707   \n",
       "ghsl_pop_density                         28648.0    95.101508  210.079701   \n",
       "landcover_crops_fraction                 28648.0    21.097237   16.309999   \n",
       "landcover_urban_fraction                 28648.0    14.079153   23.917510   \n",
       "landcover_water_permanent_10km_fraction  28648.0     1.668968    7.152657   \n",
       "landcover_water_seasonal_10km_fraction   28648.0     0.694652    2.383790   \n",
       "nighttime_lights                         28648.0     9.260498   26.160952   \n",
       "dist_to_capital                          28648.0   300.584775  269.097712   \n",
       "dist_to_shoreline                        28648.0   473.801360  355.856845   \n",
       "\n",
       "                                                 min          25%  \\\n",
       "year                                     1994.000000  2008.000000   \n",
       "ghsl_water_surface                          0.000000     0.000000   \n",
       "ghsl_built_pre_1975                         0.000000     0.000000   \n",
       "ghsl_built_1975_to_1990                     0.000000     0.000000   \n",
       "ghsl_built_1990_to_2000                     0.000000     0.000037   \n",
       "ghsl_built_2000_to_2014                     0.000000     0.000109   \n",
       "ghsl_not_built_up                           0.000859     0.895615   \n",
       "ghsl_pop_density                            0.000000     2.943082   \n",
       "landcover_crops_fraction                    0.000000     6.105505   \n",
       "landcover_urban_fraction                    0.000000     0.705307   \n",
       "landcover_water_permanent_10km_fraction     0.000000     0.000000   \n",
       "landcover_water_seasonal_10km_fraction      0.000000     0.001394   \n",
       "nighttime_lights                            0.000000     0.000000   \n",
       "dist_to_capital                             0.105306   110.789483   \n",
       "dist_to_shoreline                           0.112080   158.829182   \n",
       "\n",
       "                                                 50%          75%          max  \n",
       "year                                     2011.000000  2014.000000  2016.000000  \n",
       "ghsl_water_surface                          0.000000     0.000000     0.991100  \n",
       "ghsl_built_pre_1975                         0.000160     0.008011     0.894608  \n",
       "ghsl_built_1975_to_1990                     0.000602     0.010037     0.685010  \n",
       "ghsl_built_1990_to_2000                     0.000936     0.008823     0.515534  \n",
       "ghsl_built_2000_to_2014                     0.001727     0.015209     0.649159  \n",
       "ghsl_not_built_up                           0.992725     0.999592     1.000000  \n",
       "ghsl_pop_density                           16.424158    64.364772  1902.876955  \n",
       "landcover_crops_fraction                   19.297194    33.199903    80.064918  \n",
       "landcover_urban_fraction                    2.599028    13.063126    98.784092  \n",
       "landcover_water_permanent_10km_fraction     0.000579     0.172243    99.164018  \n",
       "landcover_water_seasonal_10km_fraction      0.033941     0.375420    56.201637  \n",
       "nighttime_lights                            0.024074     4.963472   403.455783  \n",
       "dist_to_capital                           253.537926   403.780077  1908.105037  \n",
       "dist_to_shoreline                         420.442368   732.552186  1769.523906  "
      ]
     },
     "execution_count": 16,
     "metadata": {},
     "output_type": "execute_result"
    }
   ],
   "source": [
    "df.describe().T"
   ]
  },
  {
   "cell_type": "code",
   "execution_count": 17,
   "id": "93f1f39b",
   "metadata": {},
   "outputs": [
    {
     "data": {
      "text/plain": [
       "<AxesSubplot:xlabel='urban_or_rural', ylabel='count'>"
      ]
     },
     "execution_count": 17,
     "metadata": {},
     "output_type": "execute_result"
    },
    {
     "data": {
      "image/png": "[encoded data removed]",
      "text/plain": [
       "<Figure size 432x288 with 1 Axes>"
      ]
     },
     "metadata": {
      "needs_background": "light"
     },
     "output_type": "display_data"
    }
   ],
   "source": [
    "sns.countplot(x='urban_or_rural', data = df)"
   ]
  },
  {
   "cell_type": "code",
   "execution_count": 18,
   "id": "23850b92",
   "metadata": {},
   "outputs": [
    {
     "data": {
      "text/plain": [
       "<seaborn.axisgrid.JointGrid at 0x2d73ce2bc70>"
      ]
     },
     "execution_count": 18,
     "metadata": {},
     "output_type": "execute_result"
    },
    {
     "data": {
      "image/png": "[encoded data removed]",
      "text/plain": [
       "<Figure size 432x432 with 3 Axes>"
      ]
     },
     "metadata": {
      "needs_background": "light"
     },
     "output_type": "display_data"
    }
   ],
   "source": [
    "sns.jointplot(x=df['urban_or_rural'], y = y)"
   ]
  },
  {
   "cell_type": "code",
   "execution_count": 19,
   "id": "9772cc27",
   "metadata": {},
   "outputs": [
    {
     "data": {
      "text/plain": [
       "Index(['ID', 'country', 'year', 'urban_or_rural', 'ghsl_water_surface',\n",
       "       'ghsl_built_pre_1975', 'ghsl_built_1975_to_1990',\n",
       "       'ghsl_built_1990_to_2000', 'ghsl_built_2000_to_2014',\n",
       "       'ghsl_not_built_up', 'ghsl_pop_density', 'landcover_crops_fraction',\n",
       "       'landcover_urban_fraction', 'landcover_water_permanent_10km_fraction',\n",
       "       'landcover_water_seasonal_10km_fraction', 'nighttime_lights',\n",
       "       'dist_to_capital', 'dist_to_shoreline', 'source'],\n",
       "      dtype='object')"
      ]
     },
     "execution_count": 19,
     "metadata": {},
     "output_type": "execute_result"
    }
   ],
   "source": [
    "df.columns"
   ]
  },
  {
   "cell_type": "code",
   "execution_count": 20,
   "id": "58e16da7",
   "metadata": {},
   "outputs": [],
   "source": [
    "df.drop('ID', axis=1, inplace=True)"
   ]
  },
  {
   "cell_type": "code",
   "execution_count": 21,
   "id": "dad1b3e8",
   "metadata": {},
   "outputs": [
    {
     "data": {
      "text/plain": [
       "Nigeria                         2695\n",
       "Kenya                           2626\n",
       "Tanzania                        2450\n",
       "Malawi                          1957\n",
       "Ethiopia                        1721\n",
       "Uganda                          1584\n",
       "Ghana                           1419\n",
       "Mali                            1295\n",
       "Zimbabwe                        1189\n",
       "Cameroon                        1041\n",
       "Zambia                          1038\n",
       "Burkina Faso                     997\n",
       "Rwanda                           984\n",
       "Senegal                          903\n",
       "Mozambique                       879\n",
       "Angola                           855\n",
       "Lesotho                          794\n",
       "Democratic Republic of Congo     785\n",
       "Sierra Leone                     785\n",
       "Benin                            746\n",
       "Guinea                           593\n",
       "Cote d'Ivoire                    481\n",
       "Togo                             330\n",
       "Swaziland                        270\n",
       "Central African Republic         231\n",
       "Name: country, dtype: int64"
      ]
     },
     "execution_count": 21,
     "metadata": {},
     "output_type": "execute_result"
    }
   ],
   "source": [
    "df['country'].value_counts()"
   ]
  },
  {
   "cell_type": "code",
   "execution_count": 22,
   "id": "2a74b5da",
   "metadata": {},
   "outputs": [
    {
     "data": {
      "text/plain": [
       "<AxesSubplot:xlabel='dist_to_capital', ylabel='Target'>"
      ]
     },
     "execution_count": 22,
     "metadata": {},
     "output_type": "execute_result"
    },
    {
     "data": {
      "image/png": "[encoded data removed]",
      "text/plain": [
       "<Figure size 432x288 with 1 Axes>"
      ]
     },
     "metadata": {
      "needs_background": "light"
     },
     "output_type": "display_data"
    }
   ],
   "source": [
    "sns.scatterplot(x='dist_to_capital', y=y, data=df, )"
   ]
  },
  {
   "cell_type": "code",
   "execution_count": 23,
   "id": "542d10ae",
   "metadata": {},
   "outputs": [
    {
     "data": {
      "text/plain": [
       "<AxesSubplot:>"
      ]
     },
     "execution_count": 23,
     "metadata": {},
     "output_type": "execute_result"
    },
    {
     "data": {
      "image/png": "[encoded data removed]",
      "text/plain": [
       "<Figure size 1440x720 with 2 Axes>"
      ]
     },
     "metadata": {
      "needs_background": "light"
     },
     "output_type": "display_data"
    }
   ],
   "source": [
    "fig, ax = plt.subplots(figsize=(20,10))\n",
    "sns.heatmap(df.corr(), annot=True, ax=ax)"
   ]
  },
  {
   "cell_type": "code",
   "execution_count": 24,
   "id": "3d5daf25",
   "metadata": {},
   "outputs": [],
   "source": [
    "# removing ghsl not built up and ghsl pre 1975 because they are highly correlated with other feautres\n",
    "df = df.drop(['ghsl_not_built_up', 'ghsl_built_pre_1975'], axis=1)"
   ]
  },
  {
   "cell_type": "code",
   "execution_count": 25,
   "id": "3c92b414",
   "metadata": {},
   "outputs": [
    {
     "data": {
      "text/plain": [
       "Index(['country', 'year', 'urban_or_rural', 'ghsl_water_surface',\n",
       "       'ghsl_built_1975_to_1990', 'ghsl_built_1990_to_2000',\n",
       "       'ghsl_built_2000_to_2014', 'ghsl_pop_density',\n",
       "       'landcover_crops_fraction', 'landcover_urban_fraction',\n",
       "       'landcover_water_permanent_10km_fraction',\n",
       "       'landcover_water_seasonal_10km_fraction', 'nighttime_lights',\n",
       "       'dist_to_capital', 'dist_to_shoreline', 'source'],\n",
       "      dtype='object')"
      ]
     },
     "execution_count": 25,
     "metadata": {},
     "output_type": "execute_result"
    }
   ],
   "source": [
    "df.columns"
   ]
  },
  {
   "cell_type": "code",
   "execution_count": 26,
   "id": "e51cbf0e",
   "metadata": {},
   "outputs": [
    {
     "name": "stdout",
     "output_type": "stream",
     "text": [
      "<class 'pandas.core.frame.DataFrame'>\n",
      "RangeIndex: 28648 entries, 0 to 28647\n",
      "Data columns (total 16 columns):\n",
      " #   Column                                   Non-Null Count  Dtype  \n",
      "---  ------                                   --------------  -----  \n",
      " 0   country                                  28648 non-null  object \n",
      " 1   year                                     28648 non-null  int64  \n",
      " 2   urban_or_rural                           28648 non-null  object \n",
      " 3   ghsl_water_surface                       28648 non-null  float64\n",
      " 4   ghsl_built_1975_to_1990                  28648 non-null  float64\n",
      " 5   ghsl_built_1990_to_2000                  28648 non-null  float64\n",
      " 6   ghsl_built_2000_to_2014                  28648 non-null  float64\n",
      " 7   ghsl_pop_density                         28648 non-null  float64\n",
      " 8   landcover_crops_fraction                 28648 non-null  float64\n",
      " 9   landcover_urban_fraction                 28648 non-null  float64\n",
      " 10  landcover_water_permanent_10km_fraction  28648 non-null  float64\n",
      " 11  landcover_water_seasonal_10km_fraction   28648 non-null  float64\n",
      " 12  nighttime_lights                         28648 non-null  float64\n",
      " 13  dist_to_capital                          28648 non-null  float64\n",
      " 14  dist_to_shoreline                        28648 non-null  float64\n",
      " 15  source                                   28648 non-null  object \n",
      "dtypes: float64(12), int64(1), object(3)\n",
      "memory usage: 3.5+ MB\n"
     ]
    }
   ],
   "source": [
    "df.info()"
   ]
  },
  {
   "cell_type": "code",
   "execution_count": 27,
   "id": "ac328de1",
   "metadata": {},
   "outputs": [],
   "source": [
    "df.drop('country', axis=1, inplace=True)"
   ]
  },
  {
   "cell_type": "code",
   "execution_count": 28,
   "id": "fff2483d",
   "metadata": {},
   "outputs": [],
   "source": [
    "from sklearn.preprocessing import LabelEncoder"
   ]
  },
  {
   "cell_type": "code",
   "execution_count": 29,
   "id": "9146bf94",
   "metadata": {},
   "outputs": [],
   "source": [
    "encoder = LabelEncoder()"
   ]
  },
  {
   "cell_type": "code",
   "execution_count": 30,
   "id": "203f5e41",
   "metadata": {},
   "outputs": [],
   "source": [
    "cat_cols = ['urban_or_rural']"
   ]
  },
  {
   "cell_type": "code",
   "execution_count": 31,
   "id": "3e9f3a35",
   "metadata": {},
   "outputs": [],
   "source": [
    "df[cat_cols] = encoder.fit_transform(df[cat_cols])"
   ]
  },
  {
   "cell_type": "code",
   "execution_count": 32,
   "id": "b1dc78dc",
   "metadata": {},
   "outputs": [],
   "source": [
    "# Spliting the dataset back to train and test set\n",
    "train = df.loc[df['source'] == 'train']\n",
    "test = df.loc[df['source'] == 'test']"
   ]
  },
  {
   "cell_type": "code",
   "execution_count": 33,
   "id": "d2219a3c",
   "metadata": {},
   "outputs": [
    {
     "data": {
      "text/plain": [
       "((21454, 15), (7194, 15))"
      ]
     },
     "execution_count": 33,
     "metadata": {},
     "output_type": "execute_result"
    }
   ],
   "source": [
    "train.shape, test.shape"
   ]
  },
  {
   "cell_type": "code",
   "execution_count": 34,
   "id": "a6b6e436",
   "metadata": {},
   "outputs": [],
   "source": [
    "X = train"
   ]
  },
  {
   "cell_type": "code",
   "execution_count": 35,
   "id": "f91ce60f",
   "metadata": {},
   "outputs": [
    {
     "data": {
      "text/plain": [
       "((21454, 15), (21454,))"
      ]
     },
     "execution_count": 35,
     "metadata": {},
     "output_type": "execute_result"
    }
   ],
   "source": [
    "X.shape, y.shape"
   ]
  },
  {
   "cell_type": "code",
   "execution_count": 36,
   "id": "cab7467e",
   "metadata": {},
   "outputs": [],
   "source": [
    "# SPlitting train dataset into train and test dataset\n",
    "from sklearn.model_selection import train_test_split"
   ]
  },
  {
   "cell_type": "code",
   "execution_count": 37,
   "id": "c9dc17d0",
   "metadata": {},
   "outputs": [],
   "source": [
    "X_train, X_test, y_train, y_test = train_test_split(X, y, random_state=101, test_size=0.3)"
   ]
  },
  {
   "cell_type": "code",
   "execution_count": 38,
   "id": "017fd414",
   "metadata": {},
   "outputs": [
    {
     "data": {
      "text/plain": [
       "((15017, 15), (6437, 15), (15017,), (6437,))"
      ]
     },
     "execution_count": 38,
     "metadata": {},
     "output_type": "execute_result"
    }
   ],
   "source": [
    "X_train.shape, X_test.shape, y_train.shape, y_test.shape"
   ]
  },
  {
   "cell_type": "code",
   "execution_count": 39,
   "id": "a924f50b",
   "metadata": {},
   "outputs": [],
   "source": [
    "#importing model\n",
    "from xgboost import XGBRegressor"
   ]
  },
  {
   "cell_type": "code",
   "execution_count": 40,
   "id": "58a5df9b",
   "metadata": {},
   "outputs": [],
   "source": [
    "model = XGBRegressor()"
   ]
  },
  {
   "cell_type": "code",
   "execution_count": 44,
   "id": "0511c795",
   "metadata": {},
   "outputs": [
    {
     "data": {
      "text/plain": [
       "year                                         int64\n",
       "urban_or_rural                               int32\n",
       "ghsl_water_surface                         float64\n",
       "ghsl_built_1975_to_1990                    float64\n",
       "ghsl_built_1990_to_2000                    float64\n",
       "ghsl_built_2000_to_2014                    float64\n",
       "ghsl_pop_density                           float64\n",
       "landcover_crops_fraction                   float64\n",
       "landcover_urban_fraction                   float64\n",
       "landcover_water_permanent_10km_fraction    float64\n",
       "landcover_water_seasonal_10km_fraction     float64\n",
       "nighttime_lights                           float64\n",
       "dist_to_capital                            float64\n",
       "dist_to_shoreline                          float64\n",
       "source                                      object\n",
       "dtype: object"
      ]
     },
     "execution_count": 44,
     "metadata": {},
     "output_type": "execute_result"
    }
   ],
   "source": [
    "X_train.dtypes"
   ]
  },
  {
   "cell_type": "code",
   "execution_count": 45,
   "id": "2e7d94c7",
   "metadata": {},
   "outputs": [],
   "source": [
    "for dataframe in (X_train, X_test, test):\n",
    "    dataframe.drop('source', axis=1, inplace=True)"
   ]
  },
  {
   "cell_type": "code",
   "execution_count": 46,
   "id": "b240871f",
   "metadata": {},
   "outputs": [
    {
     "data": {
      "text/plain": [
       "XGBRegressor(base_score=0.5, booster='gbtree', colsample_bylevel=1,\n",
       "             colsample_bynode=1, colsample_bytree=1, enable_categorical=False,\n",
       "             gamma=0, gpu_id=-1, importance_type=None,\n",
       "             interaction_constraints='', learning_rate=0.300000012,\n",
       "             max_delta_step=0, max_depth=6, min_child_weight=1, missing=nan,\n",
       "             monotone_constraints='()', n_estimators=100, n_jobs=4,\n",
       "             num_parallel_tree=1, predictor='auto', random_state=0, reg_alpha=0,\n",
       "             reg_lambda=1, scale_pos_weight=1, subsample=1, tree_method='exact',\n",
       "             validate_parameters=1, verbosity=None)"
      ]
     },
     "execution_count": 46,
     "metadata": {},
     "output_type": "execute_result"
    }
   ],
   "source": [
    "model.fit(X_train, y_train)"
   ]
  },
  {
   "cell_type": "code",
   "execution_count": 47,
   "id": "4636abde",
   "metadata": {},
   "outputs": [],
   "source": [
    "train_pred = model.predict(X_train)"
   ]
  },
  {
   "cell_type": "code",
   "execution_count": 48,
   "id": "f5b3a591",
   "metadata": {},
   "outputs": [],
   "source": [
    "from sklearn.metrics import *"
   ]
  },
  {
   "cell_type": "code",
   "execution_count": 49,
   "id": "3b483022",
   "metadata": {},
   "outputs": [
    {
     "data": {
      "text/plain": [
       "0.895622041721959"
      ]
     },
     "execution_count": 49,
     "metadata": {},
     "output_type": "execute_result"
    }
   ],
   "source": [
    "explained_variance_score(y_train, train_pred)"
   ]
  },
  {
   "cell_type": "code",
   "execution_count": 50,
   "id": "a1e0018d",
   "metadata": {},
   "outputs": [],
   "source": [
    "predictions = model.predict(X_test)"
   ]
  },
  {
   "cell_type": "code",
   "execution_count": 51,
   "id": "ab5b85a0",
   "metadata": {},
   "outputs": [
    {
     "data": {
      "text/plain": [
       "0.770257205994408"
      ]
     },
     "execution_count": 51,
     "metadata": {},
     "output_type": "execute_result"
    }
   ],
   "source": [
    "explained_variance_score(y_test, predictions)"
   ]
  },
  {
   "cell_type": "code",
   "execution_count": 52,
   "id": "d6c3250e",
   "metadata": {},
   "outputs": [
    {
     "name": "stdout",
     "output_type": "stream",
     "text": [
      "Root mean sqaured error:  0.09270551951771418\n"
     ]
    }
   ],
   "source": [
    "print(\"Root mean sqaured error: \",np.sqrt(mean_squared_error(y_test, predictions)))"
   ]
  },
  {
   "cell_type": "code",
   "execution_count": 54,
   "id": "1ef6aaf6",
   "metadata": {},
   "outputs": [
    {
     "data": {
      "text/plain": [
       "Index(['year', 'urban_or_rural', 'ghsl_water_surface',\n",
       "       'ghsl_built_1975_to_1990', 'ghsl_built_1990_to_2000',\n",
       "       'ghsl_built_2000_to_2014', 'ghsl_pop_density',\n",
       "       'landcover_crops_fraction', 'landcover_urban_fraction',\n",
       "       'landcover_water_permanent_10km_fraction',\n",
       "       'landcover_water_seasonal_10km_fraction', 'nighttime_lights',\n",
       "       'dist_to_capital', 'dist_to_shoreline'],\n",
       "      dtype='object')"
      ]
     },
     "execution_count": 54,
     "metadata": {},
     "output_type": "execute_result"
    }
   ],
   "source": [
    "test.columns"
   ]
  },
  {
   "cell_type": "code",
   "execution_count": 56,
   "id": "112ebd85",
   "metadata": {},
   "outputs": [],
   "source": [
    "ss['Target'] = model.predict(test[test.columns])"
   ]
  },
  {
   "cell_type": "code",
   "execution_count": 57,
   "id": "0acb456d",
   "metadata": {},
   "outputs": [
    {
     "data": {
      "text/html": [
       "<div>\n",
       "<style scoped>\n",
       "    .dataframe tbody tr th:only-of-type {\n",
       "        vertical-align: middle;\n",
       "    }\n",
       "\n",
       "    .dataframe tbody tr th {\n",
       "        vertical-align: top;\n",
       "    }\n",
       "\n",
       "    .dataframe thead th {\n",
       "        text-align: right;\n",
       "    }\n",
       "</style>\n",
       "<table border=\"1\" class=\"dataframe\">\n",
       "  <thead>\n",
       "    <tr style=\"text-align: right;\">\n",
       "      <th></th>\n",
       "      <th>ID</th>\n",
       "      <th>Target</th>\n",
       "    </tr>\n",
       "  </thead>\n",
       "  <tbody>\n",
       "    <tr>\n",
       "      <th>0</th>\n",
       "      <td>ID_AAcismbB</td>\n",
       "      <td>0.180693</td>\n",
       "    </tr>\n",
       "    <tr>\n",
       "      <th>1</th>\n",
       "      <td>ID_AAeBMsji</td>\n",
       "      <td>0.256954</td>\n",
       "    </tr>\n",
       "    <tr>\n",
       "      <th>2</th>\n",
       "      <td>ID_AAjFMjzy</td>\n",
       "      <td>0.718146</td>\n",
       "    </tr>\n",
       "    <tr>\n",
       "      <th>3</th>\n",
       "      <td>ID_AAmMOEEC</td>\n",
       "      <td>0.369348</td>\n",
       "    </tr>\n",
       "    <tr>\n",
       "      <th>4</th>\n",
       "      <td>ID_ABguzDxp</td>\n",
       "      <td>0.279069</td>\n",
       "    </tr>\n",
       "  </tbody>\n",
       "</table>\n",
       "</div>"
      ],
      "text/plain": [
       "            ID    Target\n",
       "0  ID_AAcismbB  0.180693\n",
       "1  ID_AAeBMsji  0.256954\n",
       "2  ID_AAjFMjzy  0.718146\n",
       "3  ID_AAmMOEEC  0.369348\n",
       "4  ID_ABguzDxp  0.279069"
      ]
     },
     "execution_count": 57,
     "metadata": {},
     "output_type": "execute_result"
    }
   ],
   "source": [
    "ss.head()"
   ]
  },
  {
   "cell_type": "code",
   "execution_count": 58,
   "id": "67908705",
   "metadata": {},
   "outputs": [],
   "source": [
    "ss.to_csv('FirstSubmission.csv', index=False)"
   ]
  }
 ],
 "metadata": {
  "kernelspec": {
   "display_name": "Python 3",
   "language": "python",
   "name": "python3"
  },
  "language_info": {
   "codemirror_mode": {
    "name": "ipython",
    "version": 3
   },
   "file_extension": ".py",
   "mimetype": "text/x-python",
   "name": "python",
   "nbconvert_exporter": "python",
   "pygments_lexer": "ipython3",
   "version": "3.8.8"
  }
 },
 "nbformat": 4,
 "nbformat_minor": 5
}
